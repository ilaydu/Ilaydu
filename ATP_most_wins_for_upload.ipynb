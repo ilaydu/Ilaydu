{
 "cells": [
  {
   "cell_type": "markdown",
   "metadata": {},
   "source": [
    "# Most ATP wins"
   ]
  },
  {
   "cell_type": "markdown",
   "metadata": {},
   "source": [
    "### Create a race bar for most cumulative ATP wins since 1968. For each month the race bar will show the 10 players with the most cumulative ATP wins up until that month. the dataset is from: \"https://www.kaggle.com/firasbayram/atp-matches-1968-2018-cleaned\""
   ]
  },
  {
   "cell_type": "markdown",
   "metadata": {},
   "source": [
    "## Import packages"
   ]
  },
  {
   "cell_type": "code",
   "execution_count": null,
   "metadata": {},
   "outputs": [],
   "source": [
    "import pandas as pd\n",
    "import numpy as np"
   ]
  },
  {
   "cell_type": "markdown",
   "metadata": {},
   "source": [
    "## Read the file"
   ]
  },
  {
   "cell_type": "code",
   "execution_count": null,
   "metadata": {},
   "outputs": [],
   "source": [
    "col_list=['tourney_date', 'winner_id', 'winner_name']\n",
    "path=\"C:\\\\Users\\\\Ilay\\\\Documents\\\\notebooks\\\\datasets\\\\ATP\\\\ATP2.csv\"\n",
    "atp = pd.read_csv(path, parse_dates=['tourney_date'], usecols=col_list)\n",
    "atp['month_year'] = atp['tourney_date'].dt.to_period('M')\n",
    "print(atp.columns)\n",
    "print(atp.head())\n",
    "print(atp.shape)"
   ]
  },
  {
   "cell_type": "markdown",
   "metadata": {},
   "source": [
    "## Create total wins per month coulumn"
   ]
  },
  {
   "cell_type": "code",
   "execution_count": null,
   "metadata": {},
   "outputs": [],
   "source": [
    "atp['wins']=1\n",
    "atp_grouped= atp.groupby(['month_year', 'winner_id', 'winner_name'], as_index=False)['wins'].count().sort_values(['month_year', 'wins'], ascending=[True, False])\n",
    "atp_grouped.columns= ['month_year', 'winner_id', 'winner_name', 'Total_month_wins']\n",
    "atp_grouped.reset_index(drop=True, inplace=True)\n",
    "print(atp_grouped.head())\n",
    "print(atp_grouped.shape)"
   ]
  },
  {
   "cell_type": "markdown",
   "metadata": {},
   "source": [
    "## Create total wins column"
   ]
  },
  {
   "cell_type": "code",
   "execution_count": null,
   "metadata": {},
   "outputs": [],
   "source": [
    "for id, group in atp_grouped.groupby('winner_id'):\n",
    "    atp_grouped.loc[atp_grouped['winner_id']==id, 'total_wins']=group['Total_month_wins'].cumsum()\n",
    "\n",
    "atp_grouped=atp_grouped.drop(columns='Total_month_wins')     \n",
    "print(atp_grouped.head())"
   ]
  },
  {
   "cell_type": "markdown",
   "metadata": {},
   "source": [
    "## Choose the Top 10 for each month"
   ]
  },
  {
   "cell_type": "code",
   "execution_count": null,
   "metadata": {},
   "outputs": [],
   "source": [
    "atp_final= pd.DataFrame(columns=atp_grouped.columns)\n",
    "check= atp_grouped.head(10)\n",
    "\n",
    "for month, group in atp_grouped.groupby('month_year'):\n",
    "    to_add=check.append(group.head(10))\n",
    "    to_add=to_add.groupby(['winner_id', 'winner_name'], as_index=False).max().sort_values(by=['total_wins'], ascending=False)\n",
    "    to_add['month_year']=month\n",
    "    to_add=to_add[atp_grouped.columns].head(10)\n",
    "    atp_final=atp_final.append(to_add).reset_index(drop=True)\n",
    "    check=to_add.reset_index(drop=True)\n",
    "    \n",
    "print(atp_final.head())\n",
    "print(atp_final.shape)"
   ]
  },
  {
   "cell_type": "markdown",
   "metadata": {},
   "source": [
    "## Import additional packages"
   ]
  },
  {
   "cell_type": "code",
   "execution_count": null,
   "metadata": {},
   "outputs": [],
   "source": [
    "import matplotlib.pyplot as plt\n",
    "import matplotlib.ticker as ticker\n",
    "import matplotlib.animation as animation\n",
    "from IPython.display import HTML\n",
    "import random"
   ]
  },
  {
   "cell_type": "markdown",
   "metadata": {},
   "source": [
    "##  Attach random number to each player and create color map to the numbers"
   ]
  },
  {
   "cell_type": "code",
   "execution_count": null,
   "metadata": {},
   "outputs": [],
   "source": [
    "random.seed(21)\n",
    "atp_final=atp_final.set_index('month_year')['1982':].reset_index(drop=False) # The data was too big for the animation so it will strat running since 1982\n",
    "print(atp_final.head())\n",
    "\n",
    "names= atp_final['winner_name'].unique()\n",
    "print(names[:], len(names))\n",
    "rand_num=np.empty(len(names))\n",
    "\n",
    "for i in range(len(names)):\n",
    "    rand_num[i]= random.randint(1,10)\n",
    "print(rand_num[:], len(rand_num))\n",
    "\n",
    "map= dict(zip(names,rand_num))\n",
    "\n",
    "atp_final['rand_num']=atp_final['winner_name']\n",
    "\n",
    "atp_final=atp_final.replace({'rand_num': map}) \n",
    "print(atp_final.head())\n",
    "\n",
    "colors = dict(zip(\n",
    "    [1,2,3,4,5,6,7,8,9,10],\n",
    "    ['#adb0ff', '#ffb3ff', '#90d595', '#e48381','#aafbff', '#f7bb5f', '#eafb50', 'red', 'blue', 'gray']\n",
    "))\n",
    "group_lk = atp_final.set_index('winner_name')['rand_num'].to_dict()"
   ]
  },
  {
   "cell_type": "markdown",
   "metadata": {},
   "source": [
    "# Create the animation"
   ]
  },
  {
   "cell_type": "code",
   "execution_count": null,
   "metadata": {},
   "outputs": [],
   "source": [
    "frames= atp_final['month_year'].unique()\n",
    "print(frames)\n",
    "\n",
    "def draw_barchart(month_year):\n",
    "    selected_month = (atp_final[atp_final['month_year']==(month_year)].sort_values(by=['total_wins'], ascending=False).head(10))\n",
    "    ax.clear()\n",
    "    ax.barh(selected_month['winner_name'], selected_month['total_wins'], color=[colors[group_lk[x]] for x in selected_month['winner_name']])\n",
    "    ax.invert_yaxis()\n",
    "    dx = selected_month['total_wins'].max()\n",
    "    for i, (total_wins, winner_name) in enumerate(zip(selected_month['total_wins'], selected_month['winner_name'])):\n",
    "        ax.text(total_wins, i,     winner_name,            ha='right')  # Tokyo: name\n",
    "        ax.text(total_wins, i,     total_wins,           ha='left')   # 38194.2: value\n",
    "    # Add year right middle portion of canvas\n",
    "    ax.text(1, 0.4, month_year, transform=ax.transAxes, size=30, ha='right')\n",
    "    ax.text(0, 1.06, 'total_wins', transform=ax.transAxes, size=12, color='#777777')\n",
    "    ax.xaxis.set_major_formatter(ticker.StrMethodFormatter('{x:,.0f}'))\n",
    "    ax.xaxis.set_ticks_position('top')\n",
    "    ax.tick_params(axis='x', colors='#777777', labelsize=12)\n",
    "    ax.set_yticks([])\n",
    "    ax.margins(0, 0.01)\n",
    "    ax.grid(which='major', axis='x', linestyle='-')\n",
    "    ax.set_axisbelow(True)\n",
    "    ax.text(0, 1.12, 'most Tennis wins in history',\n",
    "            transform=ax.transAxes, size=24, weight=600, ha='left')\n",
    "    ax.text(1, 0, 'by @pratapvardhan; credit @jburnmurdoch', transform=ax.transAxes, ha='right',\n",
    "            color='#777777', bbox=dict(facecolor='white', alpha=0.8, edgecolor='white'))\n",
    "    plt.box(False)\n",
    "\n",
    "\n",
    "fig, ax = plt.subplots(figsize=(15, 8))\n",
    "animator = animation.FuncAnimation(fig, draw_barchart, frames=frames)\n",
    "HTML(animator.to_jshtml()) "
   ]
  }
 ],
 "metadata": {
  "kernelspec": {
   "display_name": "Python 3",
   "language": "python",
   "name": "python3"
  },
  "language_info": {
   "codemirror_mode": {
    "name": "ipython",
    "version": 3
   },
   "file_extension": ".py",
   "mimetype": "text/x-python",
   "name": "python",
   "nbconvert_exporter": "python",
   "pygments_lexer": "ipython3",
   "version": "3.7.4"
  }
 },
 "nbformat": 4,
 "nbformat_minor": 4
}
